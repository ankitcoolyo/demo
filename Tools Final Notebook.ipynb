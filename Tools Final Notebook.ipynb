{
    "cells": [
        {
            "cell_type": "markdown",
            "metadata": {
                "collapsed": true
            },
            "source": "# My Jupyter Notebook on IBM Watson Studio"
        },
        {
            "cell_type": "markdown",
            "metadata": {},
            "source": "**ANKIT KAPOOR**\nENTREPRENEUR"
        },
        {
            "cell_type": "markdown",
            "metadata": {},
            "source": "*I am interested in data science since it helps you to understand data and unravel the insights which you want*"
        },
        {
            "cell_type": "markdown",
            "metadata": {},
            "source": "### So my code will multiply two numbers"
        },
        {
            "cell_type": "code",
            "execution_count": 1,
            "metadata": {},
            "outputs": [
                {
                    "data": {
                        "text/plain": "6"
                    },
                    "execution_count": 1,
                    "metadata": {},
                    "output_type": "execute_result"
                }
            ],
            "source": "x=2\ny=3\nz=x*y\nz"
        },
        {
            "cell_type": "markdown",
            "metadata": {},
            "source": "### This is it\n***\nHope you will enjoy it\n***\n___this isthe way___\n.This is bullet list\n.Again\n1 C\n2 D\n3 F\nThe following website can be found at <a href=\"https://timesofindia.indiatimes.com/\" target=\"_blank\">this link</a>.\n![Markdown Logo is here.](https://www.fullstackpython.com/img/logos/markdown.png)\n`I got it!`\n| IT   | is   |\n|------|------|\n|   a  | table|\n> Act in living present\n~~this is it\n~~\n\n"
        }
    ],
    "metadata": {
        "kernelspec": {
            "display_name": "Python 3.6",
            "language": "python",
            "name": "python3"
        },
        "language_info": {
            "codemirror_mode": {
                "name": "ipython",
                "version": 3
            },
            "file_extension": ".py",
            "mimetype": "text/x-python",
            "name": "python",
            "nbconvert_exporter": "python",
            "pygments_lexer": "ipython3",
            "version": "3.6.9"
        }
    },
    "nbformat": 4,
    "nbformat_minor": 1
}